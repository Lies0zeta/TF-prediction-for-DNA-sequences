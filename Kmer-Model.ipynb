{
 "cells": [
  {
   "cell_type": "code",
   "execution_count": 1,
   "metadata": {},
   "outputs": [],
   "source": [
    "from sklearn.metrics import accuracy_score\n",
    "from sklearn.neighbors import KNeighborsClassifier \n",
    "from sklearn.model_selection import KFold\n",
    "from sklearn.svm import SVC\n",
    "from pyfm import pylibfm\n",
    "import pandas as pd\n",
    "import numpy as np\n",
    "\n",
    "def getKmers(sequence, size=7):\n",
    "    return [sequence[x:x+size].lower() \\\n",
    "        for x in range(len(sequence) - size + 1)]"
   ]
  },
  {
   "cell_type": "markdown",
   "metadata": {},
   "source": [
    "-----"
   ]
  },
  {
   "cell_type": "markdown",
   "metadata": {},
   "source": [
    "### Data for verification"
   ]
  },
  {
   "cell_type": "code",
   "execution_count": 3,
   "metadata": {},
   "outputs": [],
   "source": [
    "x_df = pd.read_csv('data/Xtr0.csv')\\\n",
    "    .append(pd.read_csv('data/Xtr1.csv'))\\\n",
    "    .append(pd.read_csv('data/Xtr2.csv'))\n",
    "\n",
    "y_df = pd.read_csv('data/Ytr0.csv')\\\n",
    "    .append(pd.read_csv('data/Ytr1.csv'))\\\n",
    "    .append(pd.read_csv('data/Ytr2.csv'))\n",
    "\n",
    "xy_df = x_df.set_index('Id').join(y_df.set_index('Id'))\n",
    "xy_df['words'] = xy_df.apply(lambda x: getKmers(x['seq']), axis=1)\n",
    "xy_df = xy_df.drop('seq', axis=1)\n",
    "\n",
    "from sklearn.feature_extraction.text import CountVectorizer\n",
    "readable_words = list(xy_df['words'])\n",
    "for item in range(len(readable_words)):\n",
    "    readable_words[item] = ' '.join(readable_words[item])\n",
    "cv = CountVectorizer(ngram_range=(4,4))\n",
    "X = cv.fit_transform(readable_words)\n",
    "y = xy_df.iloc[:, 0].values"
   ]
  },
  {
   "cell_type": "markdown",
   "metadata": {},
   "source": [
    "-----"
   ]
  },
  {
   "cell_type": "markdown",
   "metadata": {},
   "source": [
    "1) Linear kernel"
   ]
  },
  {
   "cell_type": "code",
   "execution_count": 112,
   "metadata": {
    "scrolled": true
   },
   "outputs": [
    {
     "name": "stdout",
     "output_type": "stream",
     "text": [
      "0.5425\n",
      "0.585\n",
      "0.635833333333\n",
      "0.6625\n",
      "0.63\n"
     ]
    }
   ],
   "source": [
    "kf = KFold(n_splits=5, random_state=111)\n",
    "kf.get_n_splits(X)\n",
    "\n",
    "for train_index, test_index in kf.split(X):\n",
    "    X_train, X_test = X[train_index], X[test_index]\n",
    "    y_train, y_test = y[train_index], y[test_index]\n",
    "    \n",
    "    linearclassifier = SVC(kernel='linear')\n",
    "    linearclassifier.fit(X_train, y_train)\n",
    "    y_pred = linearclassifier.predict(X_test).astype(int)\n",
    "    \n",
    "    print(accuracy_score(y_test, y_pred))"
   ]
  },
  {
   "cell_type": "markdown",
   "metadata": {},
   "source": [
    "2) RBF kernel"
   ]
  },
  {
   "cell_type": "code",
   "execution_count": 113,
   "metadata": {
    "scrolled": true
   },
   "outputs": [
    {
     "name": "stdout",
     "output_type": "stream",
     "text": [
      "0.4775\n",
      "0.498333333333\n",
      "0.49\n",
      "0.5\n",
      "0.510833333333\n"
     ]
    }
   ],
   "source": [
    "kf = KFold(n_splits=5, random_state=3)\n",
    "kf.get_n_splits(X)\n",
    "\n",
    "for train_index, test_index in kf.split(X):\n",
    "    X_train, X_test = X[train_index], X[test_index]\n",
    "    y_train, y_test = y[train_index], y[test_index]\n",
    "    \n",
    "    rbfclassifier = SVC(kernel='rbf')\n",
    "    rbfclassifier.fit(X_train, y_train)\n",
    "    y_pred = rbfclassifier.predict(X_test).astype(int)\n",
    "\n",
    "    print(accuracy_score(y_test, y_pred))"
   ]
  },
  {
   "cell_type": "markdown",
   "metadata": {},
   "source": [
    "3) Sigmoid kernel"
   ]
  },
  {
   "cell_type": "code",
   "execution_count": 114,
   "metadata": {
    "scrolled": true
   },
   "outputs": [
    {
     "name": "stdout",
     "output_type": "stream",
     "text": [
      "0.4775\n",
      "0.498333333333\n",
      "0.49\n",
      "0.5\n",
      "0.510833333333\n"
     ]
    }
   ],
   "source": [
    "kf = KFold(n_splits=5, random_state=1)\n",
    "kf.get_n_splits(X)\n",
    "\n",
    "for train_index, test_index in kf.split(X):\n",
    "    X_train, X_test = X[train_index], X[test_index]\n",
    "    y_train, y_test = y[train_index], y[test_index]\n",
    "    \n",
    "    sigmoidclassifier = SVC(kernel='sigmoid')\n",
    "    sigmoidclassifier.fit(X_train, y_train)\n",
    "    y_pred = sigmoidclassifier.predict(X_test).astype(int)\n",
    "    \n",
    "    print(accuracy_score(y_test, y_pred))"
   ]
  },
  {
   "cell_type": "markdown",
   "metadata": {},
   "source": [
    "4) Polynomial kernel"
   ]
  },
  {
   "cell_type": "code",
   "execution_count": 115,
   "metadata": {
    "scrolled": true
   },
   "outputs": [
    {
     "name": "stdout",
     "output_type": "stream",
     "text": [
      "0.4775\n",
      "0.498333333333\n",
      "0.49\n",
      "0.5\n",
      "0.510833333333\n"
     ]
    }
   ],
   "source": [
    "kf = KFold(n_splits=5, random_state=7)\n",
    "kf.get_n_splits(X)\n",
    "\n",
    "for train_index, test_index in kf.split(X):\n",
    "    X_train, X_test = X[train_index], X[test_index]\n",
    "    y_train, y_test = y[train_index], y[test_index]\n",
    "    \n",
    "    polyclassifier = SVC(kernel='poly')\n",
    "    polyclassifier.fit(X_train, y_train)\n",
    "    y_pred = polyclassifier.predict(X_test).astype(int)\n",
    "    \n",
    "    print(accuracy_score(y_test, y_pred))"
   ]
  },
  {
   "cell_type": "markdown",
   "metadata": {},
   "source": [
    "5) KNN"
   ]
  },
  {
   "cell_type": "code",
   "execution_count": 116,
   "metadata": {
    "scrolled": true
   },
   "outputs": [
    {
     "name": "stdout",
     "output_type": "stream",
     "text": [
      "0.558333333333\n",
      "0.5475\n",
      "0.5775\n",
      "0.614166666667\n",
      "0.591666666667\n"
     ]
    }
   ],
   "source": [
    "kf = KFold(n_splits=5, random_state=11)\n",
    "kf.get_n_splits(X)\n",
    "\n",
    "for train_index, test_index in kf.split(X):\n",
    "    X_train, X_test = X[train_index], X[test_index]\n",
    "    y_train, y_test = y[train_index], y[test_index]\n",
    "\n",
    "    knnclassifier = KNeighborsClassifier(n_neighbors=10)\n",
    "    knnclassifier.fit(X_train, y_train)\n",
    "    y_pred = knnclassifier.predict(X_test).astype(int)\n",
    "    \n",
    "    print(accuracy_score(y_test, y_pred))"
   ]
  },
  {
   "cell_type": "markdown",
   "metadata": {
    "scrolled": true
   },
   "source": [
    "6) Spectrum kernel"
   ]
  },
  {
   "cell_type": "code",
   "execution_count": null,
   "metadata": {},
   "outputs": [],
   "source": [
    "from sklearn.preprocessing import normalize\n",
    "\n",
    "def normK(X, Y):\n",
    "    X_n = normalize(X, norm='l2', axis=1)\n",
    "    Y_n = normalize(Y, norm='l2', axis=1)\n",
    "    K = np.dot(X_n, Y_n.T)\n",
    "    return K\n",
    "\n",
    "kf = KFold(n_splits=10, random_state=5)\n",
    "kf.get_n_splits(X)\n",
    "for i in [0.1,0.5,0.6,0.7,0.8,0.9,1.0,1.1,1.5,2.0]:\n",
    "    res = []\n",
    "    for train_index, test_index in kf.split(X):\n",
    "        X_train, X_test = X[train_index], X[test_index]\n",
    "        y_train, y_test = y[train_index], y[test_index]\n",
    "\n",
    "        normlassifier = SVC(C=i, kernel=normK) \n",
    "        normlassifier.fit(X_train, y_train)  \n",
    "        y_pred = normlassifier.predict(X_test).astype(int)\n",
    "\n",
    "        res.append(accuracy_score(y_test, y_pred))\n",
    "    print(np.mean(res))"
   ]
  },
  {
   "cell_type": "markdown",
   "metadata": {},
   "source": [
    "7) Factorization machine"
   ]
  },
  {
   "cell_type": "code",
   "execution_count": null,
   "metadata": {},
   "outputs": [
    {
     "name": "stdout",
     "output_type": "stream",
     "text": [
      "Creating validation dataset of 0.01 of training for adaptive regularization\n",
      "-- Epoch 1\n",
      "Training log loss: 11.50837\n",
      "-- Epoch 2\n",
      "Training log loss: 4.55398\n",
      "-- Epoch 3\n",
      "Training log loss: 1.53290\n",
      "-- Epoch 4\n",
      "Training log loss: 0.42346\n",
      "-- Epoch 5\n"
     ]
    }
   ],
   "source": [
    "kf = KFold(n_splits=5, random_state=111)\n",
    "kf.get_n_splits(X)\n",
    "\n",
    "for train_index, test_index in kf.split(X):\n",
    "    X_train, X_test = X[train_index], X[test_index]\n",
    "    y_train, y_test = y[train_index], y[test_index]\n",
    "    \n",
    "    fm = pylibfm.FM(num_factors=2000, num_iter=5, \\\n",
    "                verbose=True, task=\"classification\", \\\n",
    "                initial_learning_rate=0.0001, \\\n",
    "                learning_rate_schedule=\"optimal\")\n",
    "    fm.fit(X_train.astype(float), y_train)\n",
    "    \n",
    "    y_pred__ = fm.predict(X_test)\n",
    "    y_pred_ = fm._prepare_y(y_pred__)\n",
    "    y_pred = [0 if x==-1. else 1 for x in y_pred_]\n",
    "    \n",
    "    print(accuracy_score(y_test, y_pred))"
   ]
  },
  {
   "cell_type": "markdown",
   "metadata": {},
   "source": [
    "------"
   ]
  },
  {
   "cell_type": "markdown",
   "metadata": {},
   "source": [
    "### Data for submission"
   ]
  },
  {
   "cell_type": "code",
   "execution_count": 2,
   "metadata": {},
   "outputs": [],
   "source": [
    "x_df_train = pd.read_csv('data/Xtr0.csv')\\\n",
    "    .append(pd.read_csv('data/Xtr1.csv'))\\\n",
    "    .append(pd.read_csv('data/Xtr2.csv'))\n",
    "x_df_test = pd.read_csv('data/Xte0.csv')\\\n",
    "    .append(pd.read_csv('data/Xte1.csv'))\\\n",
    "    .append(pd.read_csv('data/Xte2.csv'))\n",
    "x_df_test['Id'] = x_df_test['Id'].apply(lambda x:x + 6000)\n",
    "x_df = x_df_train.append(x_df_test)\n",
    "\n",
    "y_df_train = pd.read_csv('data/Ytr0.csv')\\\n",
    "    .append(pd.read_csv('data/Ytr1.csv'))\\\n",
    "    .append(pd.read_csv('data/Ytr2.csv'))\n",
    "# y_df_test = pd.read_csv('data/better.csv')\n",
    "# y_df_test['Id'] = y_df_test['Id'].apply(lambda x:x + 6000)\n",
    "# y_df_test['Bound'] = y_df_test['Bound'].astype(float)\n",
    "y_df = y_df_train#.append(y_df_test)\n",
    "\n",
    "xy_df = x_df.set_index('Id').join(y_df.set_index('Id'))\n",
    "\n",
    "sequences = xy_df['seq'].values.astype(str)\n",
    "\n",
    "xy_df['words'] = xy_df.apply(lambda x: getKmers(x['seq']), axis=1)\n",
    "xy_df = xy_df.drop('seq', axis=1)\n",
    "indices_train = xy_df.dropna().index.tolist()\n",
    "\n",
    "# For not using additional training set, uncomment this line\n",
    "indices_train = indices_train[0:6000]\n",
    "\n",
    "sequences_train = np.array(sequences[indices_train].tolist())\n",
    "sequences_test = np.array(sequences[6000:9000].tolist())\n",
    "\n",
    "from sklearn.feature_extraction.text import CountVectorizer\n",
    "readable_words = list(xy_df['words'])\n",
    "for item in range(len(readable_words)):\n",
    "    readable_words[item] = ' '.join(readable_words[item])\n",
    "cv = CountVectorizer(ngram_range=(4,4))\n",
    "X = cv.fit_transform(readable_words)\n",
    "\n",
    "X_train = X[indices_train]\n",
    "X_test = X[6000:9000]\n",
    "y_train = xy_df.iloc[:, 0].values[indices_train].astype(int)\n",
    "# y_test = y_df_test.iloc[:, 0].values.astype(int)"
   ]
  },
  {
   "cell_type": "markdown",
   "metadata": {},
   "source": [
    "-----------"
   ]
  },
  {
   "cell_type": "markdown",
   "metadata": {},
   "source": [
    "1) Linear kernel"
   ]
  },
  {
   "cell_type": "code",
   "execution_count": 23,
   "metadata": {},
   "outputs": [],
   "source": [
    "linearclassifier = SVC(kernel='linear')\n",
    "linearclassifier.fit(X_train, y_train)\n",
    "y_pred = linearclassifier.predict(X_test).astype(int)"
   ]
  },
  {
   "cell_type": "code",
   "execution_count": 106,
   "metadata": {},
   "outputs": [],
   "source": [
    "dataset = pd.DataFrame({'Id' : range(3000), 'Bound' : y_pred})\\\n",
    "    .set_index('Id')\n",
    "dataset.to_csv('res/pred_kmer_linear.csv', index=True)"
   ]
  },
  {
   "cell_type": "markdown",
   "metadata": {},
   "source": [
    "2) KNN"
   ]
  },
  {
   "cell_type": "code",
   "execution_count": 60,
   "metadata": {},
   "outputs": [],
   "source": [
    "knnclassifier = KNeighborsClassifier(n_neighbors=10)\n",
    "knnclassifier.fit(X_train, y_train)\n",
    "y_pred = knnclassifier.predict(X_test).astype(int)"
   ]
  },
  {
   "cell_type": "code",
   "execution_count": 106,
   "metadata": {},
   "outputs": [],
   "source": [
    "dataset = pd.DataFrame({'Id' : range(3000), 'Bound' : y_pred})\\\n",
    "    .set_index('Id')\n",
    "dataset.to_csv('res/pred_kmer_knn.csv', index=True)"
   ]
  },
  {
   "cell_type": "markdown",
   "metadata": {},
   "source": [
    "3) Spectrum kernel"
   ]
  },
  {
   "cell_type": "code",
   "execution_count": null,
   "metadata": {},
   "outputs": [],
   "source": [
    "from sklearn.preprocessing import normalize\n",
    "\n",
    "def normK(X, Y):\n",
    "    X_n = normalize(X, norm='l2', axis=1)\n",
    "    Y_n = normalize(Y, norm='l2', axis=1)\n",
    "    K = np.dot(X_n, Y_n.T)\n",
    "    return K\n",
    "\n",
    "normlassifier = SVC(C=0.9, kernel=normK)\n",
    "normlassifier.fit(X_train, y_train)\n",
    "y_pred = normlassifier.predict(X_test).astype(int)"
   ]
  },
  {
   "cell_type": "code",
   "execution_count": null,
   "metadata": {},
   "outputs": [],
   "source": [
    "dataset = pd.DataFrame({'Id' : range(3000), 'Bound' : y_pred})\\\n",
    "    .set_index('Id')\n",
    "dataset.to_csv('res/pred_kmer_spectrum.csv', index=True)"
   ]
  },
  {
   "cell_type": "markdown",
   "metadata": {},
   "source": [
    "4) Factorization machine"
   ]
  },
  {
   "cell_type": "code",
   "execution_count": null,
   "metadata": {},
   "outputs": [
    {
     "name": "stdout",
     "output_type": "stream",
     "text": [
      "Creating validation dataset of 0.01 of training for adaptive regularization\n",
      "-- Epoch 1\n"
     ]
    }
   ],
   "source": [
    "fm = pylibfm.FM(num_factors=2000, num_iter=5, verbose=True, \\\n",
    "        task=\"classification\", initial_learning_rate=0.0001, \\\n",
    "        learning_rate_schedule=\"optimal\")\n",
    "fm.fit(X_train.astype(float), y_train)\n",
    "\n",
    "y_pred__ = fm.predict(X_test)\n",
    "y_pred_ = fm._prepare_y(y_pred__)\n",
    "y_pred = [0 if x==-1. else 1 for x in y_pred_]\n",
    "\n",
    "print(accuracy_score(y_test, y_pred))"
   ]
  },
  {
   "cell_type": "code",
   "execution_count": null,
   "metadata": {},
   "outputs": [],
   "source": [
    "dataset = pd.DataFrame({'Id' : range(3000), 'Bound' : y_pred})\\\n",
    "    .set_index('Id')\n",
    "dataset.to_csv('res/pred_kmer_factor.csv', index=True)"
   ]
  },
  {
   "cell_type": "code",
   "execution_count": null,
   "metadata": {},
   "outputs": [],
   "source": []
  }
 ],
 "metadata": {
  "kernelspec": {
   "display_name": "Python 3",
   "language": "python",
   "name": "python3"
  },
  "language_info": {
   "codemirror_mode": {
    "name": "ipython",
    "version": 3
   },
   "file_extension": ".py",
   "mimetype": "text/x-python",
   "name": "python",
   "nbconvert_exporter": "python",
   "pygments_lexer": "ipython3",
   "version": "3.6.8"
  }
 },
 "nbformat": 4,
 "nbformat_minor": 2
}
